{
 "cells": [
  {
   "cell_type": "markdown",
   "id": "abb6e0ad-2a77-4a50-ae22-8f133c5346a6",
   "metadata": {},
   "source": [
    "## 使用 COPT 求解线性分式规划（单变量版本）\n",
    "\n",
    "本笔记展示了如何求解一个**线性分式规划（LFP）**问题，  \n",
    "该问题仅包含**一个决策变量**，便于理解和学习。\n",
    "\n",
    "### 原始问题形式\n",
    "\n",
    "我们要解决的问题是：\n",
    "\n",
    "$$\n",
    "\\min_x \\quad \\frac{c \\cdot x + d}{e \\cdot x + f}\n",
    "$$\n",
    "\n",
    "约束条件为：\n",
    "\n",
    "$$\n",
    "a \\cdot x \\le b, \\quad e \\cdot x + f > 0\n",
    "$$\n",
    "\n",
    "---\n",
    "\n",
    "### 变量替换\n",
    "\n",
    "为了将分式目标函数线性化，引入以下变量：\n",
    "\n",
    "- $z = \\frac{1}{e \\cdot x + f}$\n",
    "- $y = \\frac{x}{e \\cdot x + f} = x \\cdot z$\n",
    "- 所以，$x = \\frac{y}{z}$\n",
    "\n",
    "---\n",
    "\n",
    "### 转化后的线性规划问题\n",
    "\n",
    "现在我们可以求解以下问题：\n",
    "\n",
    "$$\n",
    "\\min_{y, z} \\quad c \\cdot y + d \\cdot z\n",
    "$$\n",
    "\n",
    "满足以下约束条件：\n",
    "\n",
    "$$\n",
    "a \\cdot y - b \\cdot z \\le 0\n",
    "$$\n",
    "\n",
    "$$\n",
    "e \\cdot y + f \\cdot z = 1\n",
    "$$\n",
    "\n",
    "$$\n",
    "z \\ge 0\n",
    "$$\n",
    "\n",
    "---\n",
    "\n",
    "接下来，我们将使用 **COPT Python 接口**来实现这个模型。\n"
   ]
  },
  {
   "cell_type": "markdown",
   "id": "c7edc2bd-78a0-47a7-a0d5-9080e388e72d",
   "metadata": {},
   "source": [
    "### 第 1 步：导入并初始化 COPT 求解器环境"
   ]
  },
  {
   "cell_type": "code",
   "execution_count": null,
   "id": "2354d9c4-8bad-4436-a49b-4dd6d6e8f25c",
   "metadata": {},
   "outputs": [],
   "source": [
    "from coptpy import *\n",
    "env = Envr()\n",
    "model = env.createModel(\"FractionalLP\")"
   ]
  },
  {
   "cell_type": "markdown",
   "id": "7bd9cf61-f60b-48ea-af78-d64a2ff45d3c",
   "metadata": {},
   "source": [
    "### 第 2 步：定义模型中的数据参数"
   ]
  },
  {
   "cell_type": "code",
   "execution_count": null,
   "id": "eec4c8b0-fd25-47e6-8a73-869bd973e0e0",
   "metadata": {},
   "outputs": [],
   "source": [
    "# Step 2: Define your data\n",
    "a = 2     \n",
    "b = 6     \n",
    "c = -3    \n",
    "d = 1     \n",
    "e = 1    \n",
    "f = 2"
   ]
  },
  {
   "cell_type": "markdown",
   "id": "f3689659-1c49-450e-97d4-871b0a225641",
   "metadata": {},
   "source": [
    "### 第 3 步：添加决策变量"
   ]
  },
  {
   "cell_type": "code",
   "execution_count": null,
   "id": "4bf6fca8-66bc-4c3d-8143-133c5e4d80ff",
   "metadata": {},
   "outputs": [],
   "source": [
    "# Step 3: Add decision variables\n",
    "# y 可以是负数, z 必须为非负\n",
    "y = model.addVar(lb=-COPT.INFINITY, name=\"y\")\n",
    "z = model.addVar(lb=0.0, name=\"z\")"
   ]
  },
  {
   "cell_type": "markdown",
   "id": "a1f48c25-f863-4d28-9da2-4cf6e68954a7",
   "metadata": {},
   "source": [
    "### 第 4 步：设置目标函数"
   ]
  },
  {
   "cell_type": "code",
   "execution_count": null,
   "id": "cac8b487-8528-4aa8-931a-8c9d3f4f76f8",
   "metadata": {},
   "outputs": [],
   "source": [
    "# Step 4: Set the objective function: minimize c * y + d * z\n",
    "model.setObjective(c * y + d * z, sense=COPT.MINIMIZE)"
   ]
  },
  {
   "cell_type": "markdown",
   "id": "ee3d27a3-8ef6-466d-95f1-a5c41c309910",
   "metadata": {},
   "source": [
    "### 第 5 步：添加约束条件"
   ]
  },
  {
   "cell_type": "code",
   "execution_count": null,
   "id": "4c7e1fd6-408d-42da-89d4-ce952040a4be",
   "metadata": {},
   "outputs": [],
   "source": [
    "# Step 5: Add constraints\n",
    "# Constraint: a * y - b * z <= 0\n",
    "model.addConstr(a * y - b * z <= 0, name=\"ineq\")\n",
    "# Constraint: e * y + f * z = 1\n",
    "model.addConstr(e * y + f * z == 1, name=\"normalization\")"
   ]
  },
  {
   "cell_type": "markdown",
   "id": "d24304b3-3c99-4adb-a59e-f15423e8319f",
   "metadata": {},
   "source": [
    "### 第 6 步：求解"
   ]
  },
  {
   "cell_type": "code",
   "execution_count": null,
   "id": "69cd3830-34e1-4360-ba2b-a1b2475f199b",
   "metadata": {},
   "outputs": [],
   "source": [
    "# Step 6: Solve the model\n",
    "model.solve()"
   ]
  },
  {
   "cell_type": "markdown",
   "id": "2b3fd310-3924-4c19-8f68-cb4c8fb2b255",
   "metadata": {},
   "source": [
    "### 第 7 步：打印结果"
   ]
  },
  {
   "cell_type": "code",
   "execution_count": null,
   "id": "9aef8352-098e-446a-b52f-070b84ced780",
   "metadata": {},
   "outputs": [],
   "source": [
    "# Step 7: Print results\n",
    "if model.status == COPT.OPTIMAL:\n",
    "    print(\"Optimal objective value:\", model.objVal)\n",
    "    print(\"Optimal y value:\", y.x)\n",
    "    print(\"Optimal z value:\", z.x)\n",
    "\n",
    "    # Recover original x from y and z\n",
    "    x = y.x / z.x\n",
    "    print(\"Recovered x value (original variable):\", x)\n",
    "else:\n",
    "    print(\"Solver status:\", model.status)\n",
    "    print(\"Solution is not available\")"
   ]
  },
  {
   "cell_type": "markdown",
   "id": "ad305747-4d18-4db1-8cce-1b4feed3cb41",
   "metadata": {},
   "source": [
    "### 求解器运行结果说明（结果解析）\n",
    "下面是 COPT 求解器输出的结果说明：\n",
    "\n",
    "---\n",
    "#### 最优目标函数值： \n",
    "Optimal objective value: -1.5999999999999999\n",
    "\n",
    "这是线性化后的目标函数的最小值，对应：\n",
    "\n",
    "$$\n",
    "\\min \\; c \\cdot y + d \\cdot z = -3 \\cdot y + 1 \\cdot z\n",
    "$$\n",
    "\n",
    "结果约为 $-1.6$，是合理且精确的结果。\n",
    "\n",
    "---\n",
    "\n",
    "这是线性化模型中变量 $y$ 和 $z$ 的最优解：\n",
    "\n",
    "- $y = \\frac{x}{e x + f}$\n",
    "- $z = \\frac{1}{e x + f}$\n",
    "\n",
    "---\n",
    "\n",
    "#### 恢复原始变量 $x$\n",
    "Recovered x value (original variable): 2.9999999999999996\n",
    "\n",
    "\n",
    "\n",
    "根据变量替换关系 $x = \\frac{y}{z}$，我们可以得到原始变量的值：\n",
    "\n",
    "$$\n",
    "x = \\frac{0.6}{0.2} = 3.0\n",
    "$$\n",
    "\n",
    "---\n",
    "\n",
    "#### 验证原始目标函数值\n",
    "\n",
    "将 $x = 3$ 带入原始目标函数进行验证：\n",
    "\n",
    "$$\n",
    "\\frac{c \\cdot x + d}{e \\cdot x + f} = \\frac{-3 \\cdot 3 + 1}{1 \\cdot 3 + 2} = \\frac{-8}{5} = -1.6\n",
    "$$\n",
    "\n",
    "完全匹配求解器的输出结果。\n",
    "\n",
    "---\n",
    "\n",
    "#### 总结表格\n",
    "\n",
    "| 变量        | 值       |\n",
    "|-------------|----------|\n",
    "| 最优 $x$    | 3.0      |\n",
    "| 目标值      | -1.6     |\n",
    "| $y = x z$   | 0.6      |\n",
    "| $z = 1 / (e x + f)$ | 0.2 |\n",
    "\n",
    "以上结果验证了线性分式问题的建模和求解过程是正确且稳定的。\n"
   ]
  },
  {
   "cell_type": "code",
   "execution_count": null,
   "id": "2a560d4c-ba23-4948-8b53-209fbb12e741",
   "metadata": {},
   "outputs": [],
   "source": []
  }
 ],
 "metadata": {
  "kernelspec": {
   "display_name": "Python [conda env:base] *",
   "language": "python",
   "name": "conda-base-py"
  },
  "language_info": {
   "codemirror_mode": {
    "name": "ipython",
    "version": 3
   },
   "file_extension": ".py",
   "mimetype": "text/x-python",
   "name": "python",
   "nbconvert_exporter": "python",
   "pygments_lexer": "ipython3",
   "version": "3.12.7"
  }
 },
 "nbformat": 4,
 "nbformat_minor": 5
}
